{
  "cells": [
    {
      "cell_type": "markdown",
      "id": "d492b95b",
      "metadata": {
        "papermill": {
          "duration": 0.004051,
          "end_time": "2023-04-03T06:02:07.763924",
          "exception": false,
          "start_time": "2023-04-03T06:02:07.759873",
          "status": "completed"
        },
        "tags": [],
        "id": "d492b95b"
      },
      "source": [
        "# Library"
      ]
    },
    {
      "cell_type": "code",
      "execution_count": null,
      "id": "3b2fac28",
      "metadata": {
        "execution": {
          "iopub.execute_input": "2023-04-03T06:02:07.771951Z",
          "iopub.status.busy": "2023-04-03T06:02:07.771487Z",
          "iopub.status.idle": "2023-04-03T06:02:30.669913Z",
          "shell.execute_reply": "2023-04-03T06:02:30.668801Z"
        },
        "papermill": {
          "duration": 22.905859,
          "end_time": "2023-04-03T06:02:30.672946",
          "exception": false,
          "start_time": "2023-04-03T06:02:07.767087",
          "status": "completed"
        },
        "tags": [],
        "id": "3b2fac28",
        "outputId": "49f851aa-a932-4af7-c1a7-5b5cf1bceee5"
      },
      "outputs": [
        {
          "name": "stdout",
          "output_type": "stream",
          "text": [
            "Collecting torchsummary\r\n",
            "  Downloading torchsummary-1.5.1-py3-none-any.whl (2.8 kB)\r\n",
            "Installing collected packages: torchsummary\r\n",
            "Successfully installed torchsummary-1.5.1\r\n",
            "\u001b[33mWARNING: Running pip as the 'root' user can result in broken permissions and conflicting behaviour with the system package manager. It is recommended to use a virtual environment instead: https://pip.pypa.io/warnings/venv\u001b[0m\u001b[33m\r\n",
            "\u001b[0m"
          ]
        }
      ],
      "source": [
        "!pip install torchsummary\n",
        "import os\n",
        "import random\n",
        "import numpy as np\n",
        "import pandas as pd\n",
        "from PIL import Image\n",
        "from tqdm.notebook import tqdm\n",
        "from scipy import spatial\n",
        "from sklearn.model_selection import train_test_split\n",
        "import torch\n",
        "from torch import nn\n",
        "from torch.utils.data import Dataset, DataLoader\n",
        "from torch.optim.lr_scheduler import CosineAnnealingLR\n",
        "from torchvision import transforms\n",
        "from torchsummary import summary\n",
        "import timm\n",
        "from timm.utils import AverageMeter\n",
        "import sys\n",
        "sys.path.append('../input/sentence-transformers-222/sentence-transformers')\n",
        "from sentence_transformers import SentenceTransformer\n",
        "import warnings\n",
        "warnings.filterwarnings('ignore')"
      ]
    },
    {
      "cell_type": "markdown",
      "id": "3cf8f537",
      "metadata": {
        "papermill": {
          "duration": 0.003088,
          "end_time": "2023-04-03T06:02:30.679667",
          "exception": false,
          "start_time": "2023-04-03T06:02:30.676579",
          "status": "completed"
        },
        "tags": [],
        "id": "3cf8f537"
      },
      "source": [
        "# Config"
      ]
    },
    {
      "cell_type": "code",
      "execution_count": null,
      "id": "d7ee6160",
      "metadata": {
        "execution": {
          "iopub.execute_input": "2023-04-03T06:02:30.688383Z",
          "iopub.status.busy": "2023-04-03T06:02:30.687105Z",
          "iopub.status.idle": "2023-04-03T06:02:30.693367Z",
          "shell.execute_reply": "2023-04-03T06:02:30.692414Z"
        },
        "papermill": {
          "duration": 0.012755,
          "end_time": "2023-04-03T06:02:30.695617",
          "exception": false,
          "start_time": "2023-04-03T06:02:30.682862",
          "status": "completed"
        },
        "tags": [],
        "id": "d7ee6160"
      },
      "outputs": [],
      "source": [
        "class CFG:\n",
        "    model_name = 'resnet152'\n",
        "    input_size = 512\n",
        "    batch_size = 64\n",
        "    num_epochs = 3\n",
        "    lr = 1e-4\n",
        "    seed = 47"
      ]
    },
    {
      "cell_type": "code",
      "execution_count": null,
      "id": "79a86013",
      "metadata": {
        "execution": {
          "iopub.execute_input": "2023-04-03T06:02:30.703351Z",
          "iopub.status.busy": "2023-04-03T06:02:30.703045Z",
          "iopub.status.idle": "2023-04-03T06:02:30.774780Z",
          "shell.execute_reply": "2023-04-03T06:02:30.773690Z"
        },
        "papermill": {
          "duration": 0.078717,
          "end_time": "2023-04-03T06:02:30.777481",
          "exception": false,
          "start_time": "2023-04-03T06:02:30.698764",
          "status": "completed"
        },
        "tags": [],
        "id": "79a86013"
      },
      "outputs": [],
      "source": [
        "def seed_everything(seed):\n",
        "    os.environ['PYTHONHASHSEED'] = str(seed)\n",
        "    random.seed(seed)\n",
        "    np.random.seed(seed)\n",
        "    torch.manual_seed(seed)\n",
        "    \n",
        "    if torch.cuda.is_available(): \n",
        "        torch.cuda.manual_seed(seed)\n",
        "        torch.backends.cudnn.deterministic = True\n",
        "\n",
        "\n",
        "seed_everything(CFG.seed)"
      ]
    },
    {
      "cell_type": "markdown",
      "id": "28376351",
      "metadata": {
        "papermill": {
          "duration": 0.003094,
          "end_time": "2023-04-03T06:02:30.784013",
          "exception": false,
          "start_time": "2023-04-03T06:02:30.780919",
          "status": "completed"
        },
        "tags": [],
        "id": "28376351"
      },
      "source": [
        "# Dataset"
      ]
    },
    {
      "cell_type": "code",
      "execution_count": null,
      "id": "111df91d",
      "metadata": {
        "execution": {
          "iopub.execute_input": "2023-04-03T06:02:30.791818Z",
          "iopub.status.busy": "2023-04-03T06:02:30.791485Z",
          "iopub.status.idle": "2023-04-03T06:02:30.804237Z",
          "shell.execute_reply": "2023-04-03T06:02:30.803268Z"
        },
        "papermill": {
          "duration": 0.019343,
          "end_time": "2023-04-03T06:02:30.806484",
          "exception": false,
          "start_time": "2023-04-03T06:02:30.787141",
          "status": "completed"
        },
        "tags": [],
        "id": "111df91d"
      },
      "outputs": [],
      "source": [
        "class DiffusionDataset(Dataset):\n",
        "    def __init__(self, df, transform):\n",
        "        self.df = df\n",
        "        self.transform = transform\n",
        "        \n",
        "    def __len__(self):\n",
        "        return len(self.df)\n",
        "\n",
        "    def __getitem__(self, idx):\n",
        "        row = self.df.iloc[idx]\n",
        "        image = Image.open(row['filepath'])\n",
        "        image = self.transform(image)\n",
        "        prompt = row['prompt']\n",
        "        return image, prompt\n",
        "\n",
        "\n",
        "class DiffusionCollator:\n",
        "    def __init__(self):\n",
        "        self.st_model = SentenceTransformer(\n",
        "            '/kaggle/input/sentence-transformers-222/all-MiniLM-L6-v2',\n",
        "            device='cpu'\n",
        "        )\n",
        "    \n",
        "    def __call__(self, batch):\n",
        "        images, prompts = zip(*batch)\n",
        "        images = torch.stack(images)\n",
        "        prompt_embeddings = self.st_model.encode(\n",
        "            prompts, \n",
        "            show_progress_bar=False, \n",
        "            convert_to_tensor=True\n",
        "        )\n",
        "        return images, prompt_embeddings\n",
        "    \n",
        "    \n",
        "def get_dataloaders(\n",
        "    trn_df,\n",
        "    val_df,\n",
        "    input_size,\n",
        "    batch_size\n",
        "):\n",
        "    transform = transforms.Compose([\n",
        "        transforms.Resize(input_size),\n",
        "        transforms.ToTensor(),\n",
        "        transforms.Normalize([0.485, 0.456, 0.406], [0.229, 0.224, 0.225]),\n",
        "    ])\n",
        "\n",
        "    trn_dataset = DiffusionDataset(trn_df, transform)\n",
        "    val_dataset = DiffusionDataset(val_df, transform)\n",
        "    collator = DiffusionCollator()\n",
        "    \n",
        "    dataloaders = {}\n",
        "    dataloaders['train'] = DataLoader(\n",
        "        dataset=trn_dataset,\n",
        "        shuffle=True,\n",
        "        batch_size=batch_size,\n",
        "        pin_memory=True,\n",
        "        num_workers=2,\n",
        "        drop_last=True,\n",
        "        collate_fn=collator\n",
        "    )\n",
        "    dataloaders['val'] = DataLoader(\n",
        "        dataset=val_dataset,\n",
        "        shuffle=False,\n",
        "        batch_size=batch_size,\n",
        "        pin_memory=True,\n",
        "        num_workers=2,\n",
        "        drop_last=False,\n",
        "        collate_fn=collator\n",
        "    )\n",
        "    return dataloaders"
      ]
    },
    {
      "cell_type": "markdown",
      "id": "c7689c5e",
      "metadata": {
        "papermill": {
          "duration": 0.003106,
          "end_time": "2023-04-03T06:02:30.812975",
          "exception": false,
          "start_time": "2023-04-03T06:02:30.809869",
          "status": "completed"
        },
        "tags": [],
        "id": "c7689c5e"
      },
      "source": [
        "# Train"
      ]
    },
    {
      "cell_type": "code",
      "execution_count": null,
      "id": "f6fe9a2a",
      "metadata": {
        "execution": {
          "iopub.execute_input": "2023-04-03T06:02:30.821273Z",
          "iopub.status.busy": "2023-04-03T06:02:30.820343Z",
          "iopub.status.idle": "2023-04-03T06:02:30.826544Z",
          "shell.execute_reply": "2023-04-03T06:02:30.825621Z"
        },
        "papermill": {
          "duration": 0.012703,
          "end_time": "2023-04-03T06:02:30.828821",
          "exception": false,
          "start_time": "2023-04-03T06:02:30.816118",
          "status": "completed"
        },
        "tags": [],
        "id": "f6fe9a2a"
      },
      "outputs": [],
      "source": [
        "def cosine_similarity(y_trues, y_preds):\n",
        "    return np.mean([\n",
        "        1 - spatial.distance.cosine(y_true, y_pred) \n",
        "        for y_true, y_pred in zip(y_trues, y_preds)\n",
        "    ])"
      ]
    },
    {
      "cell_type": "code",
      "execution_count": null,
      "id": "3326a8ad",
      "metadata": {
        "execution": {
          "iopub.execute_input": "2023-04-03T06:02:30.837328Z",
          "iopub.status.busy": "2023-04-03T06:02:30.836774Z",
          "iopub.status.idle": "2023-04-03T06:02:30.853229Z",
          "shell.execute_reply": "2023-04-03T06:02:30.852200Z"
        },
        "papermill": {
          "duration": 0.023644,
          "end_time": "2023-04-03T06:02:30.855591",
          "exception": false,
          "start_time": "2023-04-03T06:02:30.831947",
          "status": "completed"
        },
        "tags": [],
        "id": "3326a8ad"
      },
      "outputs": [],
      "source": [
        "def train(\n",
        "    trn_df,\n",
        "    val_df,\n",
        "    model_name,\n",
        "    input_size,\n",
        "    batch_size,\n",
        "    num_epochs,\n",
        "    lr\n",
        "):\n",
        "    device = torch.device('cuda' if torch.cuda.is_available() else 'cpu')\n",
        "    dataloaders = get_dataloaders(\n",
        "        trn_df,\n",
        "        val_df,\n",
        "        input_size,\n",
        "        batch_size\n",
        "    )\n",
        "\n",
        "    model = timm.create_model(\n",
        "        model_name,\n",
        "        pretrained=True\n",
        "    )\n",
        "    for param in model.parameters():\n",
        "        param.requires_grad = False\n",
        "    model.fc = nn.Sequential(\n",
        "    nn.Linear(model.get_classifier().in_features, 1024, bias=True), \n",
        "    nn.Tanh(),\n",
        "    nn.Dropout(p=0.4, inplace=False), \n",
        "    nn.Linear(1024, 384, bias=True)\n",
        "    )\n",
        "#     summary(model, (3, 512, 512))\n",
        "    model.set_grad_checkpointing()\n",
        "    model.to(device)\n",
        "    \n",
        "    optimizer = torch.optim.AdamW(model.parameters(), lr=lr)\n",
        "\n",
        "    ttl_iters = num_epochs * len(dataloaders['train'])\n",
        "    scheduler = CosineAnnealingLR(optimizer, T_max=ttl_iters, eta_min=1e-6)\n",
        "    criterion = nn.CosineEmbeddingLoss()\n",
        "    \n",
        "    best_score = -1.0\n",
        "\n",
        "    for epoch in range(num_epochs):\n",
        "        train_meters = {\n",
        "            'loss': AverageMeter(),\n",
        "            'cos': AverageMeter(),\n",
        "        }\n",
        "        model.train()\n",
        "        for X, y in tqdm(dataloaders['train'], leave=False):\n",
        "            X, y = X.to(device), y.to(device)\n",
        "\n",
        "            optimizer.zero_grad()\n",
        "            X_out = model(X)\n",
        "            target = torch.ones(X.size(0)).to(device)\n",
        "            loss = criterion(X_out, y, target)\n",
        "            loss.backward()\n",
        "\n",
        "            optimizer.step()\n",
        "            scheduler.step()\n",
        "\n",
        "            trn_loss = loss.item()\n",
        "            trn_cos = cosine_similarity(\n",
        "                X_out.detach().cpu().numpy(), \n",
        "                y.detach().cpu().numpy()\n",
        "            )\n",
        "\n",
        "            train_meters['loss'].update(trn_loss, n=X.size(0))\n",
        "            train_meters['cos'].update(trn_cos, n=X.size(0))\n",
        "            \n",
        "            print('trn/loss={:.4f}, trn/cos={:.4f}'.format(\n",
        "            train_meters['loss'].avg,\n",
        "            train_meters['cos'].avg))\n",
        "\n",
        "        print('Epoch {:d} / trn/loss={:.4f}, trn/cos={:.4f}'.format(\n",
        "            epoch + 1,\n",
        "            train_meters['loss'].avg,\n",
        "            train_meters['cos'].avg))\n",
        "\n",
        "        val_meters = {\n",
        "            'loss': AverageMeter(),\n",
        "            'cos': AverageMeter(),\n",
        "        }\n",
        "        model.eval()\n",
        "        for X, y in tqdm(dataloaders['val'], leave=False):\n",
        "            X, y = X.to(device), y.to(device)\n",
        "\n",
        "            with torch.no_grad():\n",
        "                X_out = model(X)\n",
        "                target = torch.ones(X.size(0)).to(device)\n",
        "                loss = criterion(X_out, y, target)\n",
        "\n",
        "                val_loss = loss.item()\n",
        "                val_cos = cosine_similarity(\n",
        "                    X_out.detach().cpu().numpy(), \n",
        "                    y.detach().cpu().numpy()\n",
        "                )\n",
        "\n",
        "            val_meters['loss'].update(val_loss, n=X.size(0))\n",
        "            val_meters['cos'].update(val_cos, n=X.size(0))\n",
        "            \n",
        "\n",
        "        print('Epoch {:d} / val/loss={:.4f}, val/cos={:.4f}'.format(\n",
        "            epoch + 1,\n",
        "            val_meters['loss'].avg,\n",
        "            val_meters['cos'].avg))\n",
        "        \n",
        "        if val_meters['cos'].avg > best_score:\n",
        "            best_score = val_meters['cos'].avg\n",
        "            torch.save(model.state_dict(), f'{model_name}.pth')"
      ]
    },
    {
      "cell_type": "code",
      "execution_count": null,
      "id": "7fefbd78",
      "metadata": {
        "execution": {
          "iopub.execute_input": "2023-04-03T06:02:30.863696Z",
          "iopub.status.busy": "2023-04-03T06:02:30.863124Z",
          "iopub.status.idle": "2023-04-03T06:02:31.624977Z",
          "shell.execute_reply": "2023-04-03T06:02:31.623946Z"
        },
        "papermill": {
          "duration": 0.768549,
          "end_time": "2023-04-03T06:02:31.627549",
          "exception": false,
          "start_time": "2023-04-03T06:02:30.859000",
          "status": "completed"
        },
        "tags": [],
        "id": "7fefbd78"
      },
      "outputs": [],
      "source": [
        "df = pd.read_csv('/kaggle/input/diffusiondb-data-cleansing/diffusiondb.csv')\n",
        "trn_df, val_df = train_test_split(df, test_size=0.1, random_state=CFG.seed)"
      ]
    },
    {
      "cell_type": "code",
      "execution_count": null,
      "id": "b0d5846a",
      "metadata": {
        "execution": {
          "iopub.execute_input": "2023-04-03T06:02:31.635865Z",
          "iopub.status.busy": "2023-04-03T06:02:31.635549Z",
          "iopub.status.idle": "2023-04-03T10:49:23.289802Z",
          "shell.execute_reply": "2023-04-03T10:49:23.288571Z"
        },
        "papermill": {
          "duration": 17211.661617,
          "end_time": "2023-04-03T10:49:23.292663",
          "exception": false,
          "start_time": "2023-04-03T06:02:31.631046",
          "status": "completed"
        },
        "tags": [],
        "id": "b0d5846a"
      },
      "outputs": [],
      "source": [
        "train(trn_df, val_df, CFG.model_name, CFG.input_size, CFG.batch_size, CFG.num_epochs, CFG.lr)"
      ]
    },
    {
      "cell_type": "code",
      "execution_count": null,
      "id": "3f2d8535",
      "metadata": {
        "papermill": {
          "duration": 0.377397,
          "end_time": "2023-04-03T10:49:24.012856",
          "exception": false,
          "start_time": "2023-04-03T10:49:23.635459",
          "status": "completed"
        },
        "tags": [],
        "id": "3f2d8535"
      },
      "outputs": [],
      "source": []
    }
  ],
  "metadata": {
    "kernelspec": {
      "display_name": "Python 3",
      "language": "python",
      "name": "python3"
    },
    "language_info": {
      "codemirror_mode": {
        "name": "ipython",
        "version": 3
      },
      "file_extension": ".py",
      "mimetype": "text/x-python",
      "name": "python",
      "nbconvert_exporter": "python",
      "pygments_lexer": "ipython3",
      "version": "3.7.12"
    },
    "papermill": {
      "default_parameters": {},
      "duration": 17249.242379,
      "end_time": "2023-04-03T10:49:27.717395",
      "environment_variables": {},
      "exception": null,
      "input_path": "__notebook__.ipynb",
      "output_path": "__notebook__.ipynb",
      "parameters": {},
      "start_time": "2023-04-03T06:01:58.475016",
      "version": "2.4.0"
    },
    "colab": {
      "provenance": []
    }
  },
  "nbformat": 4,
  "nbformat_minor": 5
}